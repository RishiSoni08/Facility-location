{
 "cells": [
  {
   "cell_type": "markdown",
   "metadata": {},
   "source": [
    "### Formulation of Distance Matrix"
   ]
  },
  {
   "cell_type": "code",
   "execution_count": 107,
   "metadata": {},
   "outputs": [],
   "source": [
    "import pandas as pd \n",
    "import numpy as np \n",
    "import folium\n",
    "from geopy.distance import geodesic\n"
   ]
  },
  {
   "cell_type": "code",
   "execution_count": 108,
   "metadata": {},
   "outputs": [],
   "source": [
    "indian_cities_coordinates = {\n",
    "    \"Mumbai\": {\"latitude\": 19.0760, \"longitude\": 72.8777},\n",
    "    \"Delhi\": {\"latitude\": 28.7041, \"longitude\": 77.1025},\n",
    "    \"Bengaluru\": {\"latitude\": 12.9716, \"longitude\": 77.5946},\n",
    "    \"Hyderabad\": {\"latitude\": 17.3850, \"longitude\": 78.4867},\n",
    "    \"Ahmedabad\": {\"latitude\": 23.0225, \"longitude\": 72.5714},\n",
    "    \"Chennai\": {\"latitude\": 13.0827, \"longitude\": 80.2707},\n",
    "    \"Kolkata\": {\"latitude\": 22.5726, \"longitude\": 88.3639},\n",
    "    \"Pune\": {\"latitude\": 18.5204, \"longitude\": 73.8567},\n",
    "    \"Jaipur\": {\"latitude\": 26.9124, \"longitude\": 75.7873},\n",
    "    \"Surat\": {\"latitude\": 21.1702, \"longitude\": 72.8311},\n",
    "    \"Lucknow\": {\"latitude\": 26.8467, \"longitude\": 80.9462},\n",
    "    \"Kanpur\": {\"latitude\": 26.4499, \"longitude\": 80.3319},\n",
    "    \"Nagpur\": {\"latitude\": 21.1458, \"longitude\": 79.0882},\n",
    "    \"Visakhapatnam\": {\"latitude\": 17.6868, \"longitude\": 83.2185},\n",
    "    \"Bhopal\": {\"latitude\": 23.2599, \"longitude\": 77.4126},\n",
    "    \"Patna\": {\"latitude\": 25.5941, \"longitude\": 85.1376},\n",
    "    \"Ludhiana\": {\"latitude\": 30.9010, \"longitude\": 75.8573},\n",
    "    \"Agra\": {\"latitude\": 27.1767, \"longitude\": 78.0081},\n",
    "    \"Nashik\": {\"latitude\": 19.9975, \"longitude\": 73.7898},\n",
    "    \"Faridabad\": {\"latitude\": 28.4089, \"longitude\": 77.3178},\n",
    "    \"Meerut\": {\"latitude\": 28.9845, \"longitude\": 77.7064},\n",
    "    \"Rajkot\": {\"latitude\": 22.3039, \"longitude\": 70.8022},\n",
    "    \"Varanasi\": {\"latitude\": 25.3176, \"longitude\": 82.9739},\n",
    "    \"Srinagar\": {\"latitude\": 34.0837, \"longitude\": 74.7973},\n",
    "    \"Aurangabad\": {\"latitude\": 19.8762, \"longitude\": 75.3433},\n",
    "    \"Dhanbad\": {\"latitude\": 23.7957, \"longitude\": 86.4304},\n",
    "    \"Amritsar\": {\"latitude\": 31.6340, \"longitude\": 74.8723},\n",
    "    \"Navi Mumbai\": {\"latitude\": 19.0330, \"longitude\": 73.0297},\n",
    "    \"Allahabad\": {\"latitude\": 25.4358, \"longitude\": 81.8463},\n",
    "    \"Ranchi\": {\"latitude\": 23.3441, \"longitude\": 85.3096},\n",
    "    \"Howrah\": {\"latitude\": 22.5958, \"longitude\": 88.2636},\n",
    "    \"Coimbatore\": {\"latitude\": 11.0168, \"longitude\": 76.9558},\n",
    "    \"Jabalpur\": {\"latitude\": 23.1815, \"longitude\": 79.9864},\n",
    "    \"Gwalior\": {\"latitude\": 26.2183, \"longitude\": 78.1828},\n",
    "    \"Vijayawada\": {\"latitude\": 16.5062, \"longitude\": 80.6480},\n",
    "    \"Jodhpur\": {\"latitude\": 26.2389, \"longitude\": 73.0243},\n",
    "    \"Madurai\": {\"latitude\": 9.9252, \"longitude\": 78.1198},\n",
    "    \"Raipur\": {\"latitude\": 21.2514, \"longitude\": 81.6296},\n",
    "    \"Kota\": {\"latitude\": 25.2138, \"longitude\": 75.8648},\n",
    "    \"Guwahati\": {\"latitude\": 26.1445, \"longitude\": 91.7362},\n",
    "    \"Chandigarh\": {\"latitude\": 30.7333, \"longitude\": 76.7794},\n",
    "    \"Solapur\": {\"latitude\": 17.6599, \"longitude\": 75.9064},\n",
    "    \"Hubli\": {\"latitude\": 15.3647, \"longitude\": 75.1239},\n",
    "    \"Mysore\": {\"latitude\": 12.2958, \"longitude\": 76.6394},\n",
    "    \"Tiruchirappalli\": {\"latitude\": 10.7905, \"longitude\": 78.7047},\n",
    "    \"Bareilly\": {\"latitude\": 28.3670, \"longitude\": 79.4304},\n",
    "    \"Aligarh\": {\"latitude\": 27.8974, \"longitude\": 78.0880},\n",
    "    \"Moradabad\": {\"latitude\": 28.8386, \"longitude\": 78.7733},\n",
    "    \"Gurgaon\": {\"latitude\": 28.4595, \"longitude\": 77.0266},\n",
    "    \"Jalandhar\": {\"latitude\": 31.3260, \"longitude\": 75.5762}\n",
    "}\n"
   ]
  },
  {
   "cell_type": "code",
   "execution_count": 109,
   "metadata": {},
   "outputs": [],
   "source": [
    "# List of cities\n",
    "cities = list(indian_cities_coordinates.keys())\n",
    "num_cities = len(cities)\n",
    "\n",
    "# Initialize distance matrix\n",
    "distance_matrix = pd.DataFrame(index=cities, columns=cities)\n"
   ]
  },
  {
   "cell_type": "code",
   "execution_count": 120,
   "metadata": {},
   "outputs": [],
   "source": [
    "for i in range (num_cities) : \n",
    "    for j in range (num_cities): \n",
    "        city1 = cities[i]\n",
    "        city2= cities[j]\n",
    "        cord1 = (indian_cities_coordinates [city1]['latitude'],indian_cities_coordinates [city1]['longitude'])\n",
    "        cord2 = (indian_cities_coordinates [city2]['latitude'],indian_cities_coordinates [city2]['longitude'])\n",
    "        dist = geodesic(cord1,cord2).kilometers\n",
    "        distance_matrix.loc[city1,city2] = dist\n",
    "        distance_matrix.loc[city1,city2] = dist\n",
    "\n",
    "distance_matrix = distance_matrix.fillna(0)\n"
   ]
  },
  {
   "cell_type": "code",
   "execution_count": 117,
   "metadata": {},
   "outputs": [],
   "source": [
    "location_coordinates = pd.DataFrame(indian_cities_coordinates).T\n",
    "distance_matrix ['Latitude'] = location_coordinates['latitude']\n",
    "distance_matrix['Longitude']= location_coordinates['longitude']"
   ]
  },
  {
   "cell_type": "code",
   "execution_count": 119,
   "metadata": {},
   "outputs": [],
   "source": [
    "# Save distance matrix to CSV\n",
    "distance_matrix.to_csv('distance_matrix.csv')\n"
   ]
  }
 ],
 "metadata": {
  "kernelspec": {
   "display_name": "base",
   "language": "python",
   "name": "python3"
  },
  "language_info": {
   "codemirror_mode": {
    "name": "ipython",
    "version": 3
   },
   "file_extension": ".py",
   "mimetype": "text/x-python",
   "name": "python",
   "nbconvert_exporter": "python",
   "pygments_lexer": "ipython3",
   "version": "3.9.19"
  }
 },
 "nbformat": 4,
 "nbformat_minor": 2
}
